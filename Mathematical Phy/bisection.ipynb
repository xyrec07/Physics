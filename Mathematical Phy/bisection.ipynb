{
 "cells": [
  {
   "cell_type": "code",
   "execution_count": 1,
   "id": "c8c4f196",
   "metadata": {},
   "outputs": [
    {
     "name": "stdout",
     "output_type": "stream",
     "text": [
      "1.7320556640625\n",
      "     n        x0        xm        x1     f(x0)     f(xm)     f(x1)\n",
      "0    1  1.000000  1.500000  2.000000 -2.000000 -0.750000  1.000000\n",
      "1    2  1.500000  1.500000  2.000000 -0.750000 -0.750000  1.000000\n",
      "2    3  1.500000  1.750000  1.750000 -0.750000  0.062500  0.062500\n",
      "3    4  1.625000  1.625000  1.750000 -0.359375 -0.359375  0.062500\n",
      "4    5  1.687500  1.687500  1.750000 -0.152344 -0.152344  0.062500\n",
      "5    6  1.718750  1.718750  1.750000 -0.045898 -0.045898  0.062500\n",
      "6    7  1.718750  1.734375  1.734375 -0.045898  0.008057  0.008057\n",
      "7    8  1.726562  1.726562  1.734375 -0.018982 -0.018982  0.008057\n",
      "8    9  1.730469  1.730469  1.734375 -0.005478 -0.005478  0.008057\n",
      "9   10  1.730469  1.732422  1.732422 -0.005478  0.001286  0.001286\n",
      "10  11  1.731445  1.731445  1.732422 -0.002097 -0.002097  0.001286\n",
      "11  12  1.731934  1.731934  1.732422 -0.000406 -0.000406  0.001286\n",
      "12  13  1.731934  1.732178  1.732178 -0.000406  0.000440  0.000440\n",
      "13  14  1.731934  1.732056  1.732056 -0.000406  0.000017  0.000017\n"
     ]
    },
    {
     "data": {
      "image/png": "[encoded data removed]",
      "text/plain": [
       "<Figure size 432x288 with 1 Axes>"
      ]
     },
     "metadata": {
      "needs_background": "light"
     },
     "output_type": "display_data"
    }
   ],
   "source": [
    "import numpy as np\n",
    "import pandas as pd\n",
    "import matplotlib.pyplot as plt\n",
    "\n",
    "def func(x):\n",
    "    return x**2-3\n",
    "\n",
    "# f(x0) x f(x1) <= 0 \n",
    "x0 = 1\n",
    "x1 = 2\n",
    "tol = 1*10**(-4)\n",
    "x0_list = []\n",
    "x0_list.append(x0)\n",
    "x1_list = []\n",
    "x1_list.append(x1)\n",
    "xm_list = []\n",
    "if -tol < func(x0) < tol:\n",
    "    x_ans = x0\n",
    "    print(f'{x_ans}(input)')\n",
    "elif -tol < func(x1) < tol:\n",
    "    x_ans = x1\n",
    "    print(f'{x_ans}(input)')\n",
    "else:\n",
    "    xm = (x0+x1)/2\n",
    "    xm_list.append(xm)\n",
    "    while -tol > func(xm) or func(xm) > tol:\n",
    "        xm = (x0+x1)/2\n",
    "        xm_list.append(xm)\n",
    "        if func(x0)*func(xm) <= 0:\n",
    "            x1 = xm\n",
    "        elif func(x1)*func(xm) <= 0:\n",
    "            x0 = xm\n",
    "        else:\n",
    "            print('Cannot find roots.')\n",
    "        x0_list.append(x0)\n",
    "        x1_list.append(x1)\n",
    "    x_ans = xm\n",
    "    print(x_ans)\n",
    "    \n",
    "    n = np.arange(1,len(x0_list)+1)\n",
    "    fx0_list = [func(x) for x in x0_list]\n",
    "    fx1_list = [func(x) for x in x1_list]\n",
    "    fxm_list = [func(x) for x in xm_list]\n",
    "    data = {'n':n,'x0':x0_list,'xm':xm_list,'x1':x1_list,\n",
    "            'f(x0)':fx0_list,'f(xm)':fxm_list,'f(x1)':fx1_list}\n",
    "    table = pd.DataFrame(data)\n",
    "    print(table)\n",
    "    y_list = [func(x) for x in xm_list]\n",
    "    plt.scatter(xm_list,y_list)\n",
    "    min_x = min(min(x0_list),min(xm_list),min(x1_list))-1\n",
    "    max_x = max(max(x0_list),max(xm_list),max(x1_list))+1\n",
    "    x = np.arange(min_x,max_x,0.01)\n",
    "    plt.plot(x, [func(x) for x in x])\n",
    "    plt.grid(True)\n",
    "    plt.show()"
   ]
  }
 ],
 "metadata": {
  "kernelspec": {
   "display_name": "Python 3 (ipykernel)",
   "language": "python",
   "name": "python3"
  },
  "language_info": {
   "codemirror_mode": {
    "name": "ipython",
    "version": 3
   },
   "file_extension": ".py",
   "mimetype": "text/x-python",
   "name": "python",
   "nbconvert_exporter": "python",
   "pygments_lexer": "ipython3",
   "version": "3.8.10"
  }
 },
 "nbformat": 4,
 "nbformat_minor": 5
}
