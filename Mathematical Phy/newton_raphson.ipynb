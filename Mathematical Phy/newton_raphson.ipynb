{
 "cells": [
  {
   "cell_type": "code",
   "execution_count": 2,
   "id": "e9f2e180",
   "metadata": {},
   "outputs": [
    {
     "name": "stdout",
     "output_type": "stream",
     "text": [
      "1.7320508100147276\n",
      "   n        x0        x1     f(x0)    f'(x0)         f(x1)\n",
      "0  1  1.000000  2.000000 -2.000000  2.000000  1.000000e+00\n",
      "1  2  2.000000  1.750000  1.000000  4.000000  6.250000e-02\n",
      "2  3  1.750000  1.732143  0.062500  3.500000  3.188776e-04\n",
      "3  4  1.732143  1.732051  0.000319  3.464286  8.472674e-09\n"
     ]
    },
    {
     "data": {
      "image/png": "[encoded data removed]",
      "text/plain": [
       "<Figure size 432x288 with 1 Axes>"
      ]
     },
     "metadata": {
      "needs_background": "light"
     },
     "output_type": "display_data"
    }
   ],
   "source": [
    "import numpy as np\n",
    "import pandas as pd\n",
    "import matplotlib.pyplot as plt\n",
    "\n",
    "def func(x):\n",
    "    return x**2-3\n",
    "def func_dash(x):\n",
    "    return 2*x\n",
    "\n",
    "x0 = 1\n",
    "tol = 1*10**(-4)\n",
    "\n",
    "x0_list = []\n",
    "x1_list = []\n",
    "if -tol > func(x0) > tol:\n",
    "    x_ans = x0\n",
    "    print(f'{x_ans}(input)')\n",
    "else:\n",
    "    x1 = x0 - func(x0)/func_dash(x0)\n",
    "    x0_list.append(x0)\n",
    "    x1_list.append(x1)\n",
    "    while -tol > func(x1) or func(x1) > tol:\n",
    "        x0 = x1\n",
    "        x1 = x0 - func(x0)/func_dash(x0)\n",
    "        x0_list.append(x0)\n",
    "        x1_list.append(x1)\n",
    "        \n",
    "    x_ans = x1\n",
    "    print(x_ans)\n",
    "    \n",
    "    n = np.arange(1,len(x0_list)+1)\n",
    "    fx0_list = [func(x) for x in x0_list]\n",
    "    fx1_list = [func(x) for x in x1_list]\n",
    "    fx0_dash_list = [func_dash(x) for x in x0_list]\n",
    "    data = {'n':n,'x0':x0_list,'x1':x1_list,\n",
    "            'f(x0)':fx0_list,'f\\'(x0)':fx0_dash_list,'f(x1)':fx1_list}\n",
    "    table = pd.DataFrame(data)\n",
    "    print(table)\n",
    "    y_list = [func(x) for x in x1_list]\n",
    "    plt.scatter(x1_list,y_list)\n",
    "    min_x = min(min(x0_list),min(x1_list))-1\n",
    "    max_x = max(max(x0_list),max(x1_list))+1\n",
    "    x = np.arange(min_x,max_x,0.01)\n",
    "    plt.plot(x, [func(x) for x in x])\n",
    "    plt.grid(True)\n",
    "    plt.show()"
   ]
  }
 ],
 "metadata": {
  "kernelspec": {
   "display_name": "Python 3 (ipykernel)",
   "language": "python",
   "name": "python3"
  },
  "language_info": {
   "codemirror_mode": {
    "name": "ipython",
    "version": 3
   },
   "file_extension": ".py",
   "mimetype": "text/x-python",
   "name": "python",
   "nbconvert_exporter": "python",
   "pygments_lexer": "ipython3",
   "version": "3.8.10"
  }
 },
 "nbformat": 4,
 "nbformat_minor": 5
}
