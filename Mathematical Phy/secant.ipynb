{
 "cells": [
  {
   "cell_type": "code",
   "execution_count": 8,
   "id": "08ac7a35",
   "metadata": {},
   "outputs": [
    {
     "name": "stdout",
     "output_type": "stream",
     "text": [
      "1.7320506804317222\n",
      "   n        x0        x1        x2     f(x0)     f(x1)         f(x2)\n",
      "0  1  1.000000  2.000000  1.666667 -2.000000  1.000000 -2.222222e-01\n",
      "1  2  2.000000  1.666667  1.727273  1.000000 -0.222222 -1.652893e-02\n",
      "2  3  1.666667  1.727273  1.732143 -0.222222 -0.016529  3.188776e-04\n",
      "3  4  1.727273  1.732143  1.732051 -0.016529  0.000319 -4.404160e-07\n"
     ]
    },
    {
     "data": {
      "image/png": "[encoded data removed]",
      "text/plain": [
       "<Figure size 432x288 with 1 Axes>"
      ]
     },
     "metadata": {
      "needs_background": "light"
     },
     "output_type": "display_data"
    }
   ],
   "source": [
    "import matplotlib.pyplot as plt\n",
    "import numpy as np\n",
    "import pandas as pd\n",
    "\n",
    "def func(x):\n",
    "    return x**2-3\n",
    "\n",
    "x0 = 1\n",
    "x1 = 2\n",
    "x0_list = []\n",
    "x1_list = []\n",
    "x2_list = []\n",
    "tol = 1*10**(-4)\n",
    "\n",
    "if -tol < func(x0) < tol:\n",
    "    x_ans = x0\n",
    "    print(f'{x_ans}(input)')\n",
    "elif -tol < func(x1) < tol:\n",
    "    x_ans = x1\n",
    "    print(f'{x_ans}(input)')\n",
    "else:\n",
    "    while -tol > func(x1) or func(x1) > tol:\n",
    "        x2 = x1 - (x1-x0)*func(x1)/(func(x1)-func(x0))\n",
    "        x0_list.append(x0)\n",
    "        x1_list.append(x1)\n",
    "        x2_list.append(x2)\n",
    "        x0 = x1\n",
    "        x1 = x2\n",
    "    x_ans = x1\n",
    "    print(x_ans)\n",
    "    n = np.arange(1,len(x0_list)+1)\n",
    "    fx0_list = [func(x) for x in x0_list]\n",
    "    fx1_list = [func(x) for x in x1_list]\n",
    "    fx2_list = [func(x) for x in x2_list]\n",
    "    data = {'n':n,'x0':x0_list,'x1':x1_list,'x2':x2_list,\n",
    "            'f(x0)':fx0_list,'f(x1)':fx1_list,'f(x2)':fx2_list}\n",
    "    table = pd.DataFrame(data)\n",
    "    print(table)\n",
    "    y_list = [func(x) for x in x1_list]\n",
    "    plt.scatter(x1_list,y_list)\n",
    "    min_x = min(min(x0_list),min(x1_list),min(x2_list))-1\n",
    "    max_x = max(max(x0_list),max(x1_list),max(x2_list))+1\n",
    "    x = np.arange(min_x,max_x,0.01)\n",
    "    plt.plot(x, [func(x) for x in x])\n",
    "    plt.grid(True)\n",
    "    plt.show()\n"
   ]
  }
 ],
 "metadata": {
  "kernelspec": {
   "display_name": "Python 3 (ipykernel)",
   "language": "python",
   "name": "python3"
  },
  "language_info": {
   "codemirror_mode": {
    "name": "ipython",
    "version": 3
   },
   "file_extension": ".py",
   "mimetype": "text/x-python",
   "name": "python",
   "nbconvert_exporter": "python",
   "pygments_lexer": "ipython3",
   "version": "3.8.10"
  }
 },
 "nbformat": 4,
 "nbformat_minor": 5
}
