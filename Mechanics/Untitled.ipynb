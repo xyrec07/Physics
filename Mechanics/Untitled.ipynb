{
 "cells": [
  {
   "cell_type": "code",
   "execution_count": 55,
   "id": "5a961167",
   "metadata": {},
   "outputs": [
    {
     "name": "stdout",
     "output_type": "stream",
     "text": [
      "      m   x\n",
      "1    50  53\n",
      "2    60  54\n",
      "3    70  55\n",
      "4    80  56\n",
      "5   100  58\n",
      "6   120  60\n",
      "7   140  61\n",
      "8   160  63\n",
      "9   180  65\n",
      "10  200  67\n",
      "         1              2          3             4\n",
      "0      Set         Spring    Gravity   Initial Pos\n",
      "1        1              4        9.8            47\n",
      "2      NaN            NaN        NaN           NaN\n",
      "3   S. No.           Mass  Pos. Inc.     Pos. Dec.\n",
      "4        1             50         56            56\n",
      "5        2             60         57            57\n",
      "6        3             70         59            59\n",
      "7        4             80         61            61\n",
      "8        5            100         64            64\n",
      "9        6            120         67            67\n",
      "10       7            140         71            71\n",
      "11       8            160         74            74\n",
      "12       9            180         77            77\n",
      "13      10            200         80            80\n",
      "14     NaN            NaN        NaN           NaN\n",
      "15     NaN            NaN        NaN           NaN\n",
      "16     Set  Spring Const.    Gravity   Initial Pos\n",
      "17       2              4          x            47\n",
      "18     NaN            NaN        NaN           NaN\n",
      "19  S. No.           Mass  Pos. Inc.     Pos. Dec.\n",
      "20       1             50         60            60\n",
      "21       2             60         62            62\n",
      "22       3             70         64            64\n",
      "23       4             80         67            67\n",
      "24       5            100         71            71\n",
      "25       6            120         76            76\n",
      "26       7            140         81            81\n",
      "27       8            160         86            86\n",
      "28       9            180         90            90\n",
      "29      10            200         95            95\n",
      "30     NaN            NaN        NaN           NaN\n",
      "31     NaN            NaN        NaN           NaN\n",
      "32     Set  Spring Const.    Gravity  Initial Pos.\n",
      "33       3              8        9.8            47\n",
      "34     NaN            NaN        NaN           NaN\n",
      "35  S. No.           Mass  Pos. Inc.     Pos. Dec.\n",
      "36       1             50         53            53\n",
      "37       2             60         54            54\n",
      "38       3             70         55            55\n",
      "39       4             80         56            56\n",
      "40       5            100         58            58\n",
      "41       6            120         60            60\n",
      "42       7            140         61            61\n",
      "43       8            160         63            63\n",
      "44       9            180         65            65\n",
      "45      10            200         67            67\n",
      "46     NaN            NaN        NaN           NaN\n",
      "47     NaN            NaN        NaN           NaN\n",
      "48     Set  Spring Const.    Gravity  Initial Pos.\n",
      "49       3              8        9.8            47\n",
      "50     NaN            NaN        NaN           NaN\n",
      "51    Mass             l1         l2            l3\n",
      "52    Blue             85         85            85\n",
      "53     Red            113        113           113\n"
     ]
    }
   ],
   "source": [
    "import pandas as pd\n",
    "import numpy as np\n",
    "\n",
    "df = pd.read_csv('data/A3a_data.csv',names=[1,2,3,4])\n",
    "df1 = df.iloc[36:46,1:3]\n",
    "df1.columns = ['m','x']\n",
    "df1.index = np.arange(1,11)\n",
    "print(df1)\n",
    "print(df)\n",
    "name = 'test_data'\n",
    "df1.to_csv(f'lsf_data/{name}.csv', index=False)"
   ]
  }
 ],
 "metadata": {
  "kernelspec": {
   "display_name": "Python 3 (ipykernel)",
   "language": "python",
   "name": "python3"
  },
  "language_info": {
   "codemirror_mode": {
    "name": "ipython",
    "version": 3
   },
   "file_extension": ".py",
   "mimetype": "text/x-python",
   "name": "python",
   "nbconvert_exporter": "python",
   "pygments_lexer": "ipython3",
   "version": "3.8.10"
  }
 },
 "nbformat": 4,
 "nbformat_minor": 5
}
