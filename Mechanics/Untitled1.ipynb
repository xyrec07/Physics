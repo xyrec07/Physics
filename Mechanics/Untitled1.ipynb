{
 "cells": [
  {
   "cell_type": "markdown",
   "id": "79dbe8f4",
   "metadata": {},
   "source": [
    "# Least Square Fitting\n",
    "## (Linear fit)"
   ]
  },
  {
   "cell_type": "code",
   "execution_count": 1,
   "id": "01ef18b9",
   "metadata": {},
   "outputs": [
    {
     "name": "stdout",
     "output_type": "stream",
     "text": [
      "     m   x\n",
      "0   50   9\n",
      "1   60  10\n",
      "2   70  12\n",
      "3   80  14\n",
      "4  100  17\n",
      "5  120  20\n",
      "6  140  24\n",
      "7  160  27\n",
      "8  180  30\n",
      "9  200  33\n"
     ]
    }
   ],
   "source": [
    "import numpy as np\n",
    "import pandas as pd\n",
    "import matplotlib.pyplot as plt\n",
    "\n",
    "df = pd.read_csv('lsf_data/A3a_lsf_data_1.csv')\n",
    "df['x'] = df['x'] - 47\n",
    "x_list = df['m'].tolist()\n",
    "y_list = df['x'].tolist() \n",
    "print(df)"
   ]
  },
  {
   "cell_type": "markdown",
   "id": "315bbaeb",
   "metadata": {},
   "source": [
    "Linear Fit\n",
    "$$y = mx + c$$\n",
    "\n",
    "Parameters\n",
    "$m = \\frac{\\overline{xy} - \\bar{x}\\bar{y}}{\\overline{x^2} - \\bar{x}^2} \\>\\>\\>$ $c = \\bar{y} - m\\bar{x}$"
   ]
  },
  {
   "cell_type": "code",
   "execution_count": 7,
   "id": "2ce363b0",
   "metadata": {},
   "outputs": [
    {
     "name": "stdout",
     "output_type": "stream",
     "text": [
      "m = 0.1632045088566826 \n",
      "c = 0.6682769726248168\n"
     ]
    },
    {
     "data": {
      "image/png": "[encoded data removed]",
      "text/plain": [
       "<Figure size 432x288 with 1 Axes>"
      ]
     },
     "metadata": {
      "needs_background": "light"
     },
     "output_type": "display_data"
    }
   ],
   "source": [
    "def lsf(x,y):\n",
    "    x_bar = np.mean(x)\n",
    "    y_bar = np.mean(y)\n",
    "    x_sq_bar = np.mean([i**2 for i in x])\n",
    "    x_bar_sq = x_bar**2\n",
    "    xy = []\n",
    "    for i in range(len(x)):\n",
    "        xy.append(x[i]*y[i])\n",
    "    xy_bar = np.mean(xy)\n",
    "    x_bar_y_bar = x_bar*y_bar\n",
    "    m = (xy_bar - x_bar_y_bar)/(x_sq_bar - x_bar_sq)\n",
    "    c = y_bar - m*x_bar\n",
    "    return m,c\n",
    "\n",
    "def data_plot(m,c,x_pt,y_pt,x_label,y_label,title):\n",
    "    x = x_pt\n",
    "    y = [m*i + c for i in x_pt]\n",
    "    plt.plot(x,y)\n",
    "    plt.scatter(x_pt,y_pt)\n",
    "    plt.xlabel(x_label)\n",
    "    plt.ylabel(y_label)\n",
    "    plt.title(title)\n",
    "    plt.grid(True)\n",
    "    plt.show()\n",
    "    \n",
    "lsf_line = lsf(x_list,y_list)\n",
    "m = lsf_line[0]\n",
    "c = lsf_line[1]\n",
    "print(f'm = {m} \\nc = {c}')\n",
    "data_plot(m,c,x_list,y_list,'Mass','Position','LSF for Set 1')"
   ]
  }
 ],
 "metadata": {
  "kernelspec": {
   "display_name": "Python 3 (ipykernel)",
   "language": "python",
   "name": "python3"
  },
  "language_info": {
   "codemirror_mode": {
    "name": "ipython",
    "version": 3
   },
   "file_extension": ".py",
   "mimetype": "text/x-python",
   "name": "python",
   "nbconvert_exporter": "python",
   "pygments_lexer": "ipython3",
   "version": "3.8.10"
  }
 },
 "nbformat": 4,
 "nbformat_minor": 5
}
