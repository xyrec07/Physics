{
 "cells": [
  {
   "cell_type": "code",
   "execution_count": 1,
   "id": "4bf37b29",
   "metadata": {},
   "outputs": [
    {
     "name": "stdout",
     "output_type": "stream",
     "text": [
      "       x     y     x^2      xy\n",
      "1   0.05  0.09  0.0025  0.0045\n",
      "2   0.06  0.10  0.0036  0.0060\n",
      "3   0.07  0.12  0.0049  0.0084\n",
      "4   0.08  0.14  0.0064  0.0112\n",
      "5   0.10  0.17  0.0100  0.0170\n",
      "6   0.12  0.20  0.0144  0.0240\n",
      "7   0.14  0.24  0.0196  0.0336\n",
      "8   0.16  0.27  0.0256  0.0432\n",
      "9   0.18  0.30  0.0324  0.0540\n",
      "10  0.20  0.33  0.0400  0.0660\n"
     ]
    }
   ],
   "source": [
    "import numpy as np\n",
    "import pandas as pd\n",
    "import matplotlib.pyplot as plt\n",
    "\n",
    "file_name = 'A3a_data_set_1'\n",
    "df = pd.read_csv(f'data/{file_name}.csv', usecols = ['Mass(g)','Extension(cm)'])\n",
    "df = df.drop(0)\n",
    "df = df.rename(columns={'Mass(g)':'x','Extension(cm)':'y'})\n",
    "df['x'] = df['x']/1000\n",
    "df['y'] = df['y']/100\n",
    "df['x^2'] = round(df['x']**2,6)\n",
    "df['xy'] = round(df['x']*df['y'],5)\n",
    "print(df)\n",
    "#df.to_csv(f'data/{file_name}_lsf.csv')\n"
   ]
  },
  {
   "cell_type": "code",
   "execution_count": 2,
   "id": "9c3ce9ae",
   "metadata": {},
   "outputs": [
    {
     "name": "stdout",
     "output_type": "stream",
     "text": [
      "(1.632045088566825, 0.0066827697262483166, 0.022736, 0.013455999999999997, 0.015940000000000003, 0.02679)\n"
     ]
    },
    {
     "data": {
      "image/png": "[encoded data removed]",
      "text/plain": [
       "<Figure size 432x288 with 1 Axes>"
      ]
     },
     "metadata": {
      "needs_background": "light"
     },
     "output_type": "display_data"
    }
   ],
   "source": [
    "def lsf(x,y):\n",
    "    x_bar = np.mean(x)\n",
    "    y_bar = np.mean(y)\n",
    "    x_sq_bar = np.mean([i**2 for i in x])\n",
    "    x_bar_sq = x_bar**2\n",
    "    xy = []\n",
    "    for i in range(len(x)):\n",
    "        xy.append(x[i]*y[i])\n",
    "    xy_bar = np.mean(xy)\n",
    "    x_bar_y_bar = x_bar*y_bar\n",
    "    m = (xy_bar - x_bar_y_bar)/(x_sq_bar - x_bar_sq)\n",
    "    c = y_bar - m*x_bar\n",
    "    return m,c,x_bar*y_bar,x_bar_sq,x_sq_bar,xy_bar\n",
    "\n",
    "def data_plot(m,c,x_pt,y_pt,x_label,y_label,fig_name):\n",
    "    x_bar = np.mean(x_pt)\n",
    "    y_bar = np.mean(y_pt)\n",
    "    x = x_pt\n",
    "    y = [m*i + c for i in x_pt]\n",
    "    plt.plot(x,y)\n",
    "    plt.scatter(x_pt,y_pt,c='orange')\n",
    "    plt.scatter(x_bar,y_bar,c='black')\n",
    "    plt.text(x_bar, y_bar*0.9, f'({round(x_bar,3)},{round(y_bar,2)})')\n",
    "    t1 = plt.text(min(x_pt), max(y_pt)*0.9, f'Scale\\n x-axis:0.02kg\\n y-axis:0.05m')\n",
    "    t1.set_bbox(dict(facecolor='white', edgecolor='black'))\n",
    "    t2= plt.text(max(x_pt)*0.33, min(y_pt), f'y = {m}x + {c}')\n",
    "    t2.set_bbox(dict(facecolor='white', edgecolor='black'))\n",
    "    plt.xlabel(x_label)\n",
    "    plt.ylabel(y_label)\n",
    "    plt.grid(True)\n",
    "    plt.savefig(f'data/{fig_name}.png')\n",
    "    plt.show()\n",
    "\n",
    "x_list = df['x'].tolist()\n",
    "y_list = df['y'].tolist() \n",
    "lsf_line = lsf(x_list,y_list)\n",
    "print(lsf_line)\n",
    "m = lsf_line[0]\n",
    "c = lsf_line[1]\n",
    "data_plot(m,c,x_list,y_list,'Mass(kg)','Extension(m)',file_name)"
   ]
  },
  {
   "cell_type": "code",
   "execution_count": 75,
   "id": "72d48a1d",
   "metadata": {},
   "outputs": [
    {
     "name": "stdout",
     "output_type": "stream",
     "text": [
      "       x     y       y^p         e           e^2\n",
      "1   0.05  0.09  0.088285  0.001715  2.941142e-06\n",
      "2   0.06  0.10  0.104605 -0.004605  2.121040e-05\n",
      "3   0.07  0.12  0.120926 -0.000926  8.573388e-07\n",
      "4   0.08  0.14  0.137246  0.002754  7.582441e-06\n",
      "5   0.10  0.17  0.169887  0.000113  1.270612e-08\n",
      "6   0.12  0.20  0.202528 -0.002528  6.391696e-06\n",
      "7   0.14  0.24  0.235169  0.004831  2.333777e-05\n",
      "8   0.16  0.27  0.267810  0.002190  4.796171e-06\n",
      "9   0.18  0.30  0.300451 -0.000451  2.032979e-07\n",
      "10  0.20  0.33  0.333092 -0.003092  9.559150e-06\n",
      "Sum of e: -1.6653345369377348e-16\n"
     ]
    }
   ],
   "source": [
    "err_table = pd.DataFrame(columns=['x','y','y^p','e','e^2'])\n",
    "err_table['x'] = df['x']\n",
    "err_table['y'] = df['y']\n",
    "err_table['y^p'] = c + m*df['x']\n",
    "err_table['e'] = err_table['y'] - err_table['y^p']\n",
    "err_table['e^2'] = err_table['e']**2\n",
    "print(err_table)\n",
    "print('Sum of e:',err_table['e'].sum())\n",
    "#err_table.to_csv(f'data/{file_name}_err.csv')"
   ]
  },
  {
   "cell_type": "code",
   "execution_count": null,
   "id": "d8bd9844",
   "metadata": {},
   "outputs": [],
   "source": [
    "n = len(df['x'])\n",
    "\n",
    "x_sq_bar = np.mean([i**2 for i in x_list])\n",
    "x_bar_sq = np.mean(x_list)**2\n",
    "\n",
    "err_y = err_table['e^2'].sum()/(n-2)\n",
    "err_c_sq = (x_sq_bar*(err_y**2))/(n*(x_sq_bar-x_bar_sq))\n",
    "err_m_sq = (err_y)**2/(n*(x_sq_bar-x_bar_sq))\n",
    "err_c = err_m_sq**(1/2)\n",
    "err_m = err_c_sq**(1/2)\n",
    "print('err_y:',err_y)\n",
    "print('err_m_sq:',err_m_sq)\n",
    "print('err_c_sq:',err_c_sq)\n",
    "print('err_m:',err_m)\n",
    "print('err_c:',err_c)"
   ]
  }
 ],
 "metadata": {
  "kernelspec": {
   "display_name": "Python 3 (ipykernel)",
   "language": "python",
   "name": "python3"
  },
  "language_info": {
   "codemirror_mode": {
    "name": "ipython",
    "version": 3
   },
   "file_extension": ".py",
   "mimetype": "text/x-python",
   "name": "python",
   "nbconvert_exporter": "python",
   "pygments_lexer": "ipython3",
   "version": "3.8.10"
  }
 },
 "nbformat": 4,
 "nbformat_minor": 5
}
