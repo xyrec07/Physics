{
 "cells": [
  {
   "cell_type": "code",
   "execution_count": 12,
   "id": "4bf37b29",
   "metadata": {},
   "outputs": [
    {
     "name": "stdout",
     "output_type": "stream",
     "text": [
      "       x     y     x^2      xy\n",
      "1   0.05  0.09  0.0025  0.0045\n",
      "2   0.06  0.10  0.0036  0.0060\n",
      "3   0.07  0.12  0.0049  0.0084\n",
      "4   0.08  0.14  0.0064  0.0112\n",
      "5   0.10  0.17  0.0100  0.0170\n",
      "6   0.12  0.20  0.0144  0.0240\n",
      "7   0.14  0.24  0.0196  0.0336\n",
      "8   0.16  0.27  0.0256  0.0432\n",
      "9   0.18  0.30  0.0324  0.0540\n",
      "10  0.20  0.33  0.0400  0.0660\n"
     ]
    }
   ],
   "source": [
    "import numpy as np\n",
    "import pandas as pd\n",
    "import matplotlib.pyplot as plt\n",
    "\n",
    "df = pd.read_csv('data/A3a_data_set_1.csv', usecols = ['Mass(g)','Extension(cm)'])\n",
    "df = df.drop(0)\n",
    "df = df.rename(columns={'Mass(g)':'x','Extension(cm)':'y'})\n",
    "df['x'] = df['x']/1000\n",
    "df['y'] = df['y']/100\n",
    "df['x^2'] = df['x']**2\n",
    "df['xy'] = df['x']*df['y']\n",
    "print(df)\n"
   ]
  },
  {
   "cell_type": "code",
   "execution_count": 32,
   "id": "9c3ce9ae",
   "metadata": {},
   "outputs": [
    {
     "name": "stdout",
     "output_type": "stream",
     "text": [
      "(1.632045088566825, 0.0066827697262483166, 0.11599999999999999, 0.196, 0.015940000000000003, 0.013455999999999997, 0.02679)\n"
     ]
    },
    {
     "data": {
      "image/png": "[encoded data removed]",
      "text/plain": [
       "<Figure size 540x252 with 1 Axes>"
      ]
     },
     "metadata": {
      "needs_background": "light"
     },
     "output_type": "display_data"
    }
   ],
   "source": [
    "def lsf(x,y):\n",
    "    x_bar = np.mean(x)\n",
    "    y_bar = np.mean(y)\n",
    "    x_sq_bar = np.mean([i**2 for i in x])\n",
    "    x_bar_sq = x_bar**2\n",
    "    xy = []\n",
    "    for i in range(len(x)):\n",
    "        xy.append(x[i]*y[i])\n",
    "    xy_bar = np.mean(xy)\n",
    "    x_bar_y_bar = x_bar*y_bar\n",
    "    m = (xy_bar - x_bar_y_bar)/(x_sq_bar - x_bar_sq)\n",
    "    c = y_bar - m*x_bar\n",
    "    return m,c,x_bar,y_bar,x_sq_bar,x_bar_sq,xy_bar\n",
    "\n",
    "def data_plot(m,c,x_pt,y_pt,x_label,y_label):\n",
    "    x_bar = np.mean(x_pt)\n",
    "    y_bar = np.mean(y_pt)\n",
    "    x = x_pt\n",
    "    y = [m*i + c for i in x_pt]\n",
    "    plt.plot(x,y)\n",
    "    plt.scatter(x_pt,y_pt,c='orange')\n",
    "    plt.scatter(x_bar,y_bar,c='black')\n",
    "    plt.text(x_bar, y_bar+0.5, f'({x_bar},{y_bar})')\n",
    "    plt.xlabel(x_label)\n",
    "    plt.ylabel(y_label)\n",
    "    plt.grid(True)\n",
    "    plt.show()\n",
    "\n",
    "x_list = df['x'].tolist()\n",
    "y_list = df['y'].tolist() \n",
    "lsf_line = lsf(x_list,y_list)\n",
    "print(lsf_line)\n",
    "m = lsf_line[0]\n",
    "c = lsf_line[1]\n",
    "data_plot(m,c,x_list,y_list,'Mass(kg)','Extension(m)')"
   ]
  },
  {
   "cell_type": "code",
   "execution_count": null,
   "id": "df1ff46a",
   "metadata": {},
   "outputs": [],
   "source": []
  }
 ],
 "metadata": {
  "kernelspec": {
   "display_name": "Python 3 (ipykernel)",
   "language": "python",
   "name": "python3"
  },
  "language_info": {
   "codemirror_mode": {
    "name": "ipython",
    "version": 3
   },
   "file_extension": ".py",
   "mimetype": "text/x-python",
   "name": "python",
   "nbconvert_exporter": "python",
   "pygments_lexer": "ipython3",
   "version": "3.8.10"
  }
 },
 "nbformat": 4,
 "nbformat_minor": 5
}
